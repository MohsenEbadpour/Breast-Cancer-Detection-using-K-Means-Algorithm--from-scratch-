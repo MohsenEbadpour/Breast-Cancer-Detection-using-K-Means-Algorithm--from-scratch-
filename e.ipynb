{
 "cells": [
  {
   "cell_type": "code",
   "execution_count": 1,
   "metadata": {},
   "outputs": [],
   "source": [
    "import numpy as np\n",
    "import pandas as pd \n",
    "import matplotlib.pyplot as plt\n",
    "import seaborn as sns\n",
    "from sklearn.metrics import accuracy_score,precision_score,confusion_matrix\n",
    "plt.rcParams[\"figure.figsize\"] = (10,6)\n",
    "from sklearn.neighbors import KNeighborsClassifier\n",
    "from sklearn.model_selection import train_test_split"
   ]
  },
  {
   "cell_type": "code",
   "execution_count": 2,
   "metadata": {},
   "outputs": [],
   "source": [
    "#load dataset \n",
    "data = pd.read_csv(\"./P2/breast_data.csv\",header=None)\n",
    "labels = np.array(pd.read_csv(\"./P2/breast_labels.csv\",header=None)[0])"
   ]
  },
  {
   "cell_type": "code",
   "execution_count": 3,
   "metadata": {},
   "outputs": [],
   "source": [
    "def CalculateMetricsAndPlot(true_label, predicted_label,color=\"Blues\"):\n",
    "    #Check types of labels\n",
    "    predicted_label = np.array(predicted_label).astype(np.int64)\n",
    "    \n",
    "    #calculate metrics\n",
    "    acc = round(accuracy_score(true_label,predicted_label)*100,2)\n",
    "    \n",
    "    #check if only label of cluster is assumed wrong\n",
    "    if acc < 50.0 : \n",
    "        for i in range(len(predicted_label)):\n",
    "            if predicted_label[i] == 0 : \n",
    "                predicted_label[i] = 1\n",
    "            else:\n",
    "                predicted_label[i] = 0\n",
    "                \n",
    "    acc = round(accuracy_score(true_label,predicted_label)*100,2)   \n",
    "    CM = confusion_matrix(true_label, predicted_label)\n",
    "    precision = round(precision_score(true_label,predicted_label, average='macro'),2)\n",
    "    \n",
    "    #plot confusion matrix with accuracy and precision\n",
    "    sns.heatmap(CM ,annot=True, cmap=color, fmt='g').set_title(\"Confusion Matrix | Accuracy={0}% | Precision={1}\".format(acc,precision))\n",
    "    plt.show()\n",
    "    return acc\n",
    "    "
   ]
  },
  {
   "cell_type": "code",
   "execution_count": 5,
   "metadata": {},
   "outputs": [
    {
     "data": {
      "image/png": "[encoded data removed]",
      "text/plain": [
       "<Figure size 720x432 with 2 Axes>"
      ]
     },
     "metadata": {
      "needs_background": "light"
     },
     "output_type": "display_data"
    },
    {
     "data": {
      "text/plain": [
       "94.15"
      ]
     },
     "execution_count": 5,
     "metadata": {},
     "output_type": "execute_result"
    }
   ],
   "source": [
    "# K-NN  classifier to cheak\n",
    "X_train, X_test, y_train, y_test = train_test_split(data,labels, test_size=0.3)\n",
    "\n",
    "knn = KNeighborsClassifier(n_neighbors=5)\n",
    "knn.fit(X_train,y_train)\n",
    "y_pred = knn.predict(X_test)\n",
    "CalculateMetricsAndPlot(y_test,y_pred,\"Purples\")\n"
   ]
  },
  {
   "cell_type": "code",
   "execution_count": null,
   "metadata": {},
   "outputs": [],
   "source": []
  },
  {
   "cell_type": "code",
   "execution_count": null,
   "metadata": {},
   "outputs": [],
   "source": []
  }
 ],
 "metadata": {
  "kernelspec": {
   "display_name": "Python 3",
   "language": "python",
   "name": "python3"
  },
  "language_info": {
   "codemirror_mode": {
    "name": "ipython",
    "version": 3
   },
   "file_extension": ".py",
   "mimetype": "text/x-python",
   "name": "python",
   "nbconvert_exporter": "python",
   "pygments_lexer": "ipython3",
   "version": "3.8.2"
  }
 },
 "nbformat": 4,
 "nbformat_minor": 4
}
