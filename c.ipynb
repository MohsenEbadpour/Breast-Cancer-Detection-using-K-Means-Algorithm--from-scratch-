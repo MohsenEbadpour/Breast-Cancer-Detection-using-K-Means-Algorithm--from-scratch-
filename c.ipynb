{
 "cells": [
  {
   "cell_type": "code",
   "execution_count": 11,
   "metadata": {},
   "outputs": [],
   "source": [
    "import numpy as np\n",
    "import pandas as pd \n",
    "import matplotlib.pyplot as plt\n",
    "import seaborn as sns\n",
    "from sklearn.metrics.pairwise import euclidean_distances\n",
    "import scipy.io\n",
    "from sklearn.metrics import accuracy_score,precision_score,confusion_matrix\n",
    "plt.rcParams[\"figure.figsize\"] = (10,6)\n",
    "sns.set_theme(style=\"darkgrid\", palette=\"pastel\")\n",
    "import random "
   ]
  },
  {
   "cell_type": "code",
   "execution_count": 12,
   "metadata": {},
   "outputs": [],
   "source": [
    "#load dataset \n",
    "data = pd.read_csv(\"./P2/breast_data.csv\",header=None)\n",
    "labels = np.array(pd.read_csv(\"./P2/breast_labels.csv\",header=None)[0])"
   ]
  },
  {
   "cell_type": "code",
   "execution_count": 32,
   "metadata": {},
   "outputs": [],
   "source": [
    "def CalculateMetricsAndPlot(true_label, predicted_label,color=\"Blues\"):\n",
    "    #Check types of labels\n",
    "    predicted_label = np.array(predicted_label).astype(np.int64)\n",
    "    \n",
    "    #calculate metrics\n",
    "    acc = round(accuracy_score(true_label,predicted_label)*100,2)\n",
    "    \n",
    "    #check if only label of cluster is assumed wrong\n",
    "    if acc < 50.0 : \n",
    "        for i in range(len(predicted_label)):\n",
    "            if predicted_label[i] == 0 : \n",
    "                predicted_label[i] = 1\n",
    "            else:\n",
    "                predicted_label[i] = 0\n",
    "                \n",
    "    acc = round(accuracy_score(true_label,predicted_label)*100,2)   \n",
    "    CM = confusion_matrix(true_label, predicted_label)\n",
    "    precision = round(precision_score(true_label,predicted_label, average='macro'),2)\n",
    "    \n",
    "    #plot confusion matrix with accuracy and precision\n",
    "    sns.heatmap(CM ,annot=True, cmap=color, fmt='g').set_title(\"Confusion Matrix | Accuracy={0}% | Precision={1}\".format(acc,precision))\n",
    "    plt.show()\n",
    "    return acc\n",
    "    \n",
    "\n",
    "# normalization data to prevent wrong effect on distance metric\n",
    "def MinMaxNorm(data):\n",
    "    return (data - data.min()) / ( data.max() - data.min())\n",
    "\n",
    "# Clustering function\n",
    "def kmeanscluster(X,k,mu,tol,maxIter):\n",
    "    #check if count of clusters equal to given centers\n",
    "    if k != mu.shape[0]:\n",
    "        print(\"Error: Count of initial centers is not equal to k\")\n",
    "        return \n",
    "    \n",
    "    # copy dataset and make label col\n",
    "    X = X.copy()\n",
    "    X[\"Cluster\"] = \"\"\n",
    "    \n",
    "    # iteration loop\n",
    "    for ite in range(maxIter):\n",
    "        \n",
    "        # loop for placing elements into clusters\n",
    "        for element_index in range(X.shape[0]):\n",
    "            \n",
    "            # variable to store element distance to each cluster\n",
    "            distances = {}\n",
    "            \n",
    "            # measuring distance to each cluster\n",
    "            for cluster_index in range(mu.shape[0]):\n",
    "                \n",
    "                element_value = X[list(range(30))].iloc[element_index]\n",
    "                cluster_value = mu.iloc[cluster_index]\n",
    "                \n",
    "                distance = euclidean_distances([element_value],[cluster_value])[0][0]\n",
    "                distances[cluster_index] = distance\n",
    "              \n",
    "            # place the element to cluster with min distance\n",
    "            X.at[element_index,\"Cluster\"] = int(min(distances,key=distances.get))\n",
    "            \n",
    "            \n",
    "       \n",
    "        #updating mu for each cluster\n",
    "        new_mu = mu.copy()\n",
    "        for cluster_index in range(mu.shape[0]):\n",
    "            cluster_items = X.loc[X['Cluster'] == cluster_index]\n",
    "            new_mu.iloc[cluster_index] = cluster_items.mean()\n",
    "        \n",
    "        # Check clusters change percentage based on given tolerance\n",
    "        CheckTolerance = 0\n",
    "        for cluster_index in range(mu.shape[0]):\n",
    "            change = (abs(mu.iloc[cluster_index]-new_mu.iloc[cluster_index])/mu.iloc[cluster_index]).mean()\n",
    "            if abs(change) < tol :\n",
    "                CheckTolerance += 1\n",
    "        \n",
    "        # if all cluster mu changed less than tolerance, stop clustering       \n",
    "        if CheckTolerance == mu.shape[0]:\n",
    "            print(\"Converged in Iteration {0} based on Tolerance {1}\".format(ite+1,tol))\n",
    "            break\n",
    "        \n",
    "        mu = new_mu  \n",
    "        \n",
    "    #return clustered matrix\n",
    "    return X\n",
    "\n"
   ]
  },
  {
   "cell_type": "code",
   "execution_count": 34,
   "metadata": {},
   "outputs": [
    {
     "name": "stdout",
     "output_type": "stream",
     "text": [
      "Converged in Iteration 8 based on Tolerance 0.001\n"
     ]
    },
    {
     "data": {
      "image/png": "[encoded data removed]",
      "text/plain": [
       "<Figure size 720x432 with 2 Axes>"
      ]
     },
     "metadata": {},
     "output_type": "display_data"
    },
    {
     "data": {
      "text/plain": [
       "85.41"
      ]
     },
     "execution_count": 34,
     "metadata": {},
     "output_type": "execute_result"
    }
   ],
   "source": [
    "mat_init = scipy.io.loadmat('./P2/init_mu.mat')[\"mu_init\"].T\n",
    "mu = pd.DataFrame(mat_init)\n",
    "result = kmeanscluster(data,2,mu,0.001,20)\n",
    "CalculateMetricsAndPlot(labels,result[\"Cluster\"],\"Oranges\")"
   ]
  },
  {
   "cell_type": "code",
   "execution_count": null,
   "metadata": {},
   "outputs": [],
   "source": []
  },
  {
   "cell_type": "code",
   "execution_count": null,
   "metadata": {},
   "outputs": [],
   "source": []
  }
 ],
 "metadata": {
  "kernelspec": {
   "display_name": "Python 3",
   "language": "python",
   "name": "python3"
  },
  "language_info": {
   "codemirror_mode": {
    "name": "ipython",
    "version": 3
   },
   "file_extension": ".py",
   "mimetype": "text/x-python",
   "name": "python",
   "nbconvert_exporter": "python",
   "pygments_lexer": "ipython3",
   "version": "3.8.2"
  }
 },
 "nbformat": 4,
 "nbformat_minor": 4
}
